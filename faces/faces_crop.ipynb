{
 "cells": [
  {
   "cell_type": "code",
   "execution_count": 35,
   "metadata": {},
   "outputs": [
    {
     "name": "stdout",
     "output_type": "stream",
     "text": [
      "Requirement already satisfied: opencv-python in /Library/Frameworks/Python.framework/Versions/3.13/lib/python3.13/site-packages (4.12.0.88)\n",
      "Requirement already satisfied: pillow in /Library/Frameworks/Python.framework/Versions/3.13/lib/python3.13/site-packages (10.4.0)\n",
      "Requirement already satisfied: numpy<2.3.0,>=2 in /Library/Frameworks/Python.framework/Versions/3.13/lib/python3.13/site-packages (from opencv-python) (2.1.3)\n",
      "Note: you may need to restart the kernel to use updated packages.\n"
     ]
    }
   ],
   "source": [
    "pip install opencv-python pillow"
   ]
  },
  {
   "cell_type": "markdown",
   "metadata": {},
   "source": []
  },
  {
   "cell_type": "code",
   "execution_count": 13,
   "metadata": {},
   "outputs": [],
   "source": [
    "# Directory paths\n",
    "input_folder = '/Users/katemamyan/Documents/GitHub/LEDE_PROGRAM/project_001/faces/images_to_crop'  # Set this to the folder where your images are stored\n",
    "output_folder = '/Users/katemamyan/Documents/GitHub/LEDE_PROGRAM/project_001/faces/cropped_images'  # Set this to the folder where you want to save the cropped images\n"
   ]
  },
  {
   "cell_type": "code",
   "execution_count": 40,
   "metadata": {},
   "outputs": [
    {
     "name": "stdout",
     "output_type": "stream",
     "text": [
      "Faces with padding have been cropped and saved successfully!\n"
     ]
    }
   ],
   "source": [
    "import cv2\n",
    "import os\n",
    "from PIL import Image, ImageDraw\n",
    "\n",
    "# Function to crop image faces into circles with some space around the face\n",
    "def crop_faces_into_circles(image_path, output_folder, padding=0.5):\n",
    "    # Load the image\n",
    "    image = cv2.imread(image_path)\n",
    "    \n",
    "    # Convert the image to grayscale (required for face detection)\n",
    "    gray = cv2.cvtColor(image, cv2.COLOR_BGR2GRAY)\n",
    "\n",
    "    # Load the Haar Cascade for face detection\n",
    "    face_cascade = cv2.CascadeClassifier(cv2.data.haarcascades + 'haarcascade_frontalface_default.xml')\n",
    "\n",
    "    # Detect faces in the image\n",
    "    faces = face_cascade.detectMultiScale(gray, 1.1, 4)\n",
    "\n",
    "    # Process each face found\n",
    "    for i, (x, y, w, h) in enumerate(faces):\n",
    "        # Calculate padding (percentage of the face bounding box)\n",
    "        pad_w = int(w * padding)\n",
    "        pad_h = int(h * padding)\n",
    "\n",
    "        # Adjust the bounding box to include padding (ensure it stays within image bounds)\n",
    "        x = max(0, x - pad_w)\n",
    "        y = max(0, y - pad_h)\n",
    "        w = min(image.shape[1] - x, w + 2 * pad_w)\n",
    "        h = min(image.shape[0] - y, h + 2 * pad_h)\n",
    "\n",
    "        # Create a circular mask for cropping the face with surrounding space\n",
    "        mask = Image.new('L', (w, h), 0)  # 'L' mode is for grayscale\n",
    "        draw = ImageDraw.Draw(mask)\n",
    "        draw.ellipse((0, 0, w, h), fill=255)  # Draw a white circle\n",
    "        \n",
    "        # Convert to PIL image for easier manipulation\n",
    "        pil_image = Image.fromarray(cv2.cvtColor(image, cv2.COLOR_BGR2RGB))\n",
    "        \n",
    "        # Crop the face using the circular mask and padding\n",
    "        face_image = pil_image.crop((x, y, x + w, y + h))\n",
    "        face_image.putalpha(mask)  # Apply the circular mask to the face image\n",
    "        \n",
    "        # Save the cropped face with padding\n",
    "        face_image.save(f\"{output_folder}/face_{i+1}_{os.path.basename(image_path)}\", 'PNG')\n",
    "\n",
    "# Directory paths\n",
    "input_folder = '/Users/katemamyan/Documents/GitHub/LEDE_PROGRAM/project_001/faces/images_to_crop'  # Set this to the folder where your images are stored\n",
    "output_folder = '/Users/katemamyan/Documents/GitHub/LEDE_PROGRAM/project_001/faces/cropped_images'  # Set this to the folder where you want to save the cropped images\n",
    "\n",
    "# Ensure output folder exists\n",
    "os.makedirs(output_folder, exist_ok=True)\n",
    "\n",
    "# Loop through all images in the input folder\n",
    "for image_name in os.listdir(input_folder):\n",
    "    sleep(1)\n",
    "    if image_name.endswith(('.jpg', '.png', '.jpeg')):  # You can add other formats if needed\n",
    "        image_path = os.path.join(input_folder, image_name)\n",
    "        crop_faces_into_circles(image_path, output_folder)\n",
    "\n",
    "print(\"Faces with padding have been cropped and saved successfully!\")\n"
   ]
  },
  {
   "cell_type": "code",
   "execution_count": null,
   "metadata": {},
   "outputs": [],
   "source": []
  }
 ],
 "metadata": {
  "kernelspec": {
   "display_name": "Python 3",
   "language": "python",
   "name": "python3"
  },
  "language_info": {
   "codemirror_mode": {
    "name": "ipython",
    "version": 3
   },
   "file_extension": ".py",
   "mimetype": "text/x-python",
   "name": "python",
   "nbconvert_exporter": "python",
   "pygments_lexer": "ipython3",
   "version": "3.13.0"
  }
 },
 "nbformat": 4,
 "nbformat_minor": 2
}
